{
 "cells": [
  {
   "cell_type": "markdown",
   "metadata": {},
   "source": [
    "# Proyectos de estudiantes\n",
    "La siguiente es una lista parcial de los proyectos de clase desarrollados por los estudiantes como parte del curso de programacion en Python, de la asignatura diseño de software de la linea de programacion del colegio Antonio Baraya en el marco del proyecto de Educacion Media Integral (EMI)"
   ]
  },
  {
   "cell_type": "markdown",
   "metadata": {},
   "source": [
    "## Cálculo de la hipotenusa\n",
    "\n",
    "| Autor  |Curso   |Programa   |\n",
    "|---|---|---|\n",
    "| Juan Uribe  |1101   |Línea de Programación   |\n",
    "| salvatore Narvaez |1101   | Línea de Programación  |\n",
    "| Daniela Galindo |  1101 |  Línea de Programación |\n",
    "|  Julian Mahecha  | 1101   | Linea de Programación |\n",
    "\n",
    "## Secuencia de Fibonacci\n",
    "|Autor   |Curso   |Programa   |\n",
    "|---|---|---|\n",
    "|  Dilan Pérez |  1101 |  Línea de Programación |\n",
    "|  Daniela Galindo |  1101 |  Línea de Programación |\n",
    "|  Salvatore Narvaez |  1101 |Línea de Programación   |\n",
    "| Juan Uribe  |  1101 | Línea de Programación  |\n",
    "\n",
    "## Calculadora funcional\n",
    "|  Autor |Curso   |  Programa |\n",
    "|---|---|---|\n",
    "| Daniela Galindo  | 1101  | Línea de Programación  |\n",
    "| Julian Mahecha  |  1101 |  Línea de Programación |\n",
    "| Salvatore Narvaez  |  1101 |  Línea de Programación |\n",
    "|  Dilan Perez | 1101  | Línea de Programación  |\n",
    "| Sergio Sanchez| 1101 | Línea de Programación |"
   ]
  },
  {
   "cell_type": "markdown",
   "metadata": {},
   "source": [
    "# Codigos propuestos\n",
    ">    ### Autor: Juan Uribe"
   ]
  },
  {
   "cell_type": "code",
   "execution_count": 5,
   "metadata": {},
   "outputs": [
    {
     "ename": "SyntaxError",
     "evalue": "invalid syntax (<ipython-input-5-f0473142e361>, line 1)",
     "output_type": "error",
     "traceback": [
      "\u001b[1;36m  File \u001b[1;32m\"<ipython-input-5-f0473142e361>\"\u001b[1;36m, line \u001b[1;32m1\u001b[0m\n\u001b[1;33m    from tkinter import *a\u001b[0m\n\u001b[1;37m                         ^\u001b[0m\n\u001b[1;31mSyntaxError\u001b[0m\u001b[1;31m:\u001b[0m invalid syntax\n"
     ]
    }
   ],
   "source": [
    "from tkinter import *a\n",
    "ventana = Tk()\n",
    "bgu = \"light blue\"\n",
    "def d():\n",
    "     c = a.get() ** 2\n",
    "     h = b.get() ** 2\n",
    "     i = c + h\n",
    "     z = i**0.5\n",
    "     eti5 = Label(ventana, text=z).grid(column=1, row=2)\n",
    "boton = Button(ventana, text = \"calcular hipotenusa\", command = d).grid(column=0, row=6)\n",
    "\n",
    "def dibujado():\n",
    "    canvas = Canvas (ventana, width=280, height=400)\n",
    "    canvas.grid (row=8, column=0)\n",
    "    canvas.create_polygon(80, 250, 80,100,250,250)\n",
    "botonca = Button(ventana, text=\"canvas\", command= dibujado).grid(row=7, column=2, columnspan=1)\n",
    "botonsalir = Button(ventana, text=\"salir\", command=ventana.destroy).grid(column=0, row=12)\n",
    "a = DoubleVar()\n",
    "b = DoubleVar()\n",
    "c = DoubleVar()\n",
    "i = DoubleVar()\n",
    "h = DoubleVar()\n",
    "\n",
    "ventana.title(\"hipotenusa\")\n",
    "ventana.geometry(\"340x240\")\n",
    "ventana.config(bg=\"#9E9E9E\")\n",
    "\n",
    "eti1 = Label(ventana, text =\"cateto opuesto\").grid(column=0, row=0)\n",
    "eti2 = Entry(ventana, textvariable = a).grid(column=1, row=0)\n",
    "eti3 = Label(ventana, text =\"cateto abyacente\").grid(column=0, row=1)\n",
    "eti4 = Entry(ventana, textvariable = b).grid(column=1, row=1)"
   ]
  },
  {
   "cell_type": "markdown",
   "metadata": {},
   "source": [
    "> La solucion propuesta por Juan Carlos es muy creativa, en una misma interfaz trabaja ambos problemas, divide por funciones la solucion del problema de la hipotenusa. Incorporando elementos como:\n",
    "> - Uso del widget canvas para crear un modelado del triangulo con los datos suministrados\n",
    "> - Incorpora el widget TopLevel para generar una GUI hija con la informacion de la secuencia de fibonacci"
   ]
  },
  {
   "cell_type": "code",
   "execution_count": 6,
   "metadata": {},
   "outputs": [
    {
     "ename": "TclError",
     "evalue": "can't invoke \"button\" command: application has been destroyed",
     "output_type": "error",
     "traceback": [
      "\u001b[1;31m---------------------------------------------------------------------------\u001b[0m",
      "\u001b[1;31mTclError\u001b[0m                                  Traceback (most recent call last)",
      "\u001b[1;32m<ipython-input-6-fd30ff6a5471>\u001b[0m in \u001b[0;36m<module>\u001b[1;34m\u001b[0m\n\u001b[0;32m     34\u001b[0m     \u001b[0mbtttt2\u001b[0m \u001b[1;33m=\u001b[0m \u001b[0mButton\u001b[0m\u001b[1;33m(\u001b[0m\u001b[0mtp\u001b[0m\u001b[1;33m,\u001b[0m \u001b[0mtext\u001b[0m\u001b[1;33m=\u001b[0m\u001b[1;34m\"Mostrar\"\u001b[0m\u001b[1;33m,\u001b[0m \u001b[0mcommand\u001b[0m\u001b[1;33m=\u001b[0m\u001b[0mfibo\u001b[0m\u001b[1;33m)\u001b[0m\u001b[1;33m.\u001b[0m\u001b[0mgrid\u001b[0m\u001b[1;33m(\u001b[0m\u001b[0mrow\u001b[0m\u001b[1;33m=\u001b[0m\u001b[1;36m4\u001b[0m\u001b[1;33m,\u001b[0m \u001b[0mcolumn\u001b[0m\u001b[1;33m=\u001b[0m\u001b[1;36m0\u001b[0m\u001b[1;33m,\u001b[0m \u001b[0mipadx\u001b[0m\u001b[1;33m=\u001b[0m\u001b[1;36m40\u001b[0m\u001b[1;33m,\u001b[0m \u001b[0mcolumnspan\u001b[0m\u001b[1;33m=\u001b[0m\u001b[1;36m3\u001b[0m\u001b[1;33m)\u001b[0m\u001b[1;33m\u001b[0m\u001b[1;33m\u001b[0m\u001b[0m\n\u001b[0;32m     35\u001b[0m \u001b[1;33m\u001b[0m\u001b[0m\n\u001b[1;32m---> 36\u001b[1;33m \u001b[0mdbt\u001b[0m \u001b[1;33m=\u001b[0m \u001b[0mButton\u001b[0m\u001b[1;33m(\u001b[0m\u001b[0mventana\u001b[0m\u001b[1;33m,\u001b[0m \u001b[0mtext\u001b[0m\u001b[1;33m=\u001b[0m\u001b[1;34m\"¡Secuencia Fibonacci!\"\u001b[0m\u001b[1;33m,\u001b[0m \u001b[0mcommand\u001b[0m\u001b[1;33m=\u001b[0m\u001b[0mfbc\u001b[0m\u001b[1;33m)\u001b[0m\u001b[1;33m.\u001b[0m\u001b[0mgrid\u001b[0m\u001b[1;33m(\u001b[0m\u001b[0mrow\u001b[0m\u001b[1;33m=\u001b[0m\u001b[1;36m7\u001b[0m\u001b[1;33m,\u001b[0m \u001b[0mcolumn\u001b[0m\u001b[1;33m=\u001b[0m\u001b[1;36m1\u001b[0m\u001b[1;33m,\u001b[0m \u001b[0msticky\u001b[0m\u001b[1;33m=\u001b[0m\u001b[0mW\u001b[0m\u001b[1;33m,\u001b[0m \u001b[0mipadx\u001b[0m\u001b[1;33m=\u001b[0m\u001b[1;36m10\u001b[0m\u001b[1;33m)\u001b[0m\u001b[1;33m\u001b[0m\u001b[1;33m\u001b[0m\u001b[0m\n\u001b[0m\u001b[0;32m     37\u001b[0m \u001b[1;33m\u001b[0m\u001b[0m\n\u001b[0;32m     38\u001b[0m \u001b[0mventana\u001b[0m\u001b[1;33m.\u001b[0m\u001b[0mmainloop\u001b[0m\u001b[1;33m(\u001b[0m\u001b[1;33m)\u001b[0m\u001b[1;33m\u001b[0m\u001b[1;33m\u001b[0m\u001b[0m\n",
      "\u001b[1;32m~\\anaconda3\\lib\\tkinter\\__init__.py\u001b[0m in \u001b[0;36m__init__\u001b[1;34m(self, master, cnf, **kw)\u001b[0m\n\u001b[0;32m   2367\u001b[0m             \u001b[0moverrelief\u001b[0m\u001b[1;33m,\u001b[0m \u001b[0mstate\u001b[0m\u001b[1;33m,\u001b[0m \u001b[0mwidth\u001b[0m\u001b[1;33m\u001b[0m\u001b[1;33m\u001b[0m\u001b[0m\n\u001b[0;32m   2368\u001b[0m         \"\"\"\n\u001b[1;32m-> 2369\u001b[1;33m         \u001b[0mWidget\u001b[0m\u001b[1;33m.\u001b[0m\u001b[0m__init__\u001b[0m\u001b[1;33m(\u001b[0m\u001b[0mself\u001b[0m\u001b[1;33m,\u001b[0m \u001b[0mmaster\u001b[0m\u001b[1;33m,\u001b[0m \u001b[1;34m'button'\u001b[0m\u001b[1;33m,\u001b[0m \u001b[0mcnf\u001b[0m\u001b[1;33m,\u001b[0m \u001b[0mkw\u001b[0m\u001b[1;33m)\u001b[0m\u001b[1;33m\u001b[0m\u001b[1;33m\u001b[0m\u001b[0m\n\u001b[0m\u001b[0;32m   2370\u001b[0m \u001b[1;33m\u001b[0m\u001b[0m\n\u001b[0;32m   2371\u001b[0m     \u001b[1;32mdef\u001b[0m \u001b[0mflash\u001b[0m\u001b[1;33m(\u001b[0m\u001b[0mself\u001b[0m\u001b[1;33m)\u001b[0m\u001b[1;33m:\u001b[0m\u001b[1;33m\u001b[0m\u001b[1;33m\u001b[0m\u001b[0m\n",
      "\u001b[1;32m~\\anaconda3\\lib\\tkinter\\__init__.py\u001b[0m in \u001b[0;36m__init__\u001b[1;34m(self, master, widgetName, cnf, kw, extra)\u001b[0m\n\u001b[0;32m   2297\u001b[0m             \u001b[1;32mdel\u001b[0m \u001b[0mcnf\u001b[0m\u001b[1;33m[\u001b[0m\u001b[0mk\u001b[0m\u001b[1;33m]\u001b[0m\u001b[1;33m\u001b[0m\u001b[1;33m\u001b[0m\u001b[0m\n\u001b[0;32m   2298\u001b[0m         self.tk.call(\n\u001b[1;32m-> 2299\u001b[1;33m             (widgetName, self._w) + extra + self._options(cnf))\n\u001b[0m\u001b[0;32m   2300\u001b[0m         \u001b[1;32mfor\u001b[0m \u001b[0mk\u001b[0m\u001b[1;33m,\u001b[0m \u001b[0mv\u001b[0m \u001b[1;32min\u001b[0m \u001b[0mclasses\u001b[0m\u001b[1;33m:\u001b[0m\u001b[1;33m\u001b[0m\u001b[1;33m\u001b[0m\u001b[0m\n\u001b[0;32m   2301\u001b[0m             \u001b[0mk\u001b[0m\u001b[1;33m.\u001b[0m\u001b[0mconfigure\u001b[0m\u001b[1;33m(\u001b[0m\u001b[0mself\u001b[0m\u001b[1;33m,\u001b[0m \u001b[0mv\u001b[0m\u001b[1;33m)\u001b[0m\u001b[1;33m\u001b[0m\u001b[1;33m\u001b[0m\u001b[0m\n",
      "\u001b[1;31mTclError\u001b[0m: can't invoke \"button\" command: application has been destroyed"
     ]
    }
   ],
   "source": [
    "def fbc():\n",
    "    d = IntVar()\n",
    "    f = IntVar()\n",
    "    g = IntVar()\n",
    "    xp = IntVar()\n",
    "    tp = Toplevel()\n",
    "    tp.config(bg=bgu)\n",
    "    tp.minsize(width=500, height=200)\n",
    "    tp.title(\"Secuencia de fibonacci\")\n",
    "    fbel1 = Label(tp, text=\"Ingrese el primer número de la secuencia:\").grid(column=0, row=0)\n",
    "    fbee1 = Entry(tp, textvariable=d).grid(column=1, row=0)\n",
    "    fbel2 = Label(tp, text=\"Ingrese el segundo número de la secuencia:\").grid(column=0, row=1)\n",
    "    fbee2 = Entry(tp, textvariable=f).grid(column=1, row=1)\n",
    "    fbel3 = Label(tp, text=\"Ingrese el número de veces que se repetirá la secuencia:\").grid(column=0, row=2)\n",
    "    fbee3 = Entry(tp, textvariable=g).grid(column=1, row=2)\n",
    "    listafb = [0]\n",
    "    def fibo():\n",
    "        listafb.clear()\n",
    "        h = d.get()\n",
    "        j = f.get()\n",
    "        k = g.get()\n",
    "        listafb.append(h)\n",
    "        listafb.append(j)\n",
    "        n = 0\n",
    "        nn = 1\n",
    "        for x in range(k):\n",
    "            fbcr = listafb[n] + listafb[nn]\n",
    "            n = n + 1\n",
    "            nn = nn + 1\n",
    "            listafb.append(fbcr)\n",
    "        xp.set(listafb)\n",
    "    fbtttl = Label(tp, textvariable=xp).grid(column=1, row=3)\n",
    "    fbttt3 = Label(tp, text=\"Secuencia:\").grid(column=0, row=3)\n",
    "    btttt2 = Button(tp, text=\"Mostrar\", command=fibo).grid(row=4, column=0, ipadx=40, columnspan=3)\n",
    "\n",
    "dbt = Button(ventana, text=\"¡Secuencia Fibonacci!\", command=fbc).grid(row=7, column=1, sticky=W, ipadx=10)\n",
    "\n",
    "ventana.mainloop()"
   ]
  },
  {
   "cell_type": "markdown",
   "metadata": {},
   "source": [
    "> La interfaz propuesta por el autor es:\n",
    "![Uribe_Solucion.png](attachment:Uribe_Solucion.png)"
   ]
  },
  {
   "cell_type": "code",
   "execution_count": null,
   "metadata": {},
   "outputs": [],
   "source": []
  }
 ],
 "metadata": {
  "kernelspec": {
   "display_name": "Python 3",
   "language": "python",
   "name": "python3"
  },
  "language_info": {
   "codemirror_mode": {
    "name": "ipython",
    "version": 3
   },
   "file_extension": ".py",
   "mimetype": "text/x-python",
   "name": "python",
   "nbconvert_exporter": "python",
   "pygments_lexer": "ipython3",
   "version": "3.7.6"
  },
  "toc": {
   "base_numbering": 1,
   "nav_menu": {},
   "number_sections": true,
   "sideBar": true,
   "skip_h1_title": false,
   "title_cell": "Table of Contents",
   "title_sidebar": "Contents",
   "toc_cell": false,
   "toc_position": {},
   "toc_section_display": true,
   "toc_window_display": false
  }
 },
 "nbformat": 4,
 "nbformat_minor": 4
}
