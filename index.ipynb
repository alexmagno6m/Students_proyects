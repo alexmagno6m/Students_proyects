{
 "cells": [
  {
   "cell_type": "markdown",
   "metadata": {
    "toc": true
   },
   "source": [
    "<h1>Table of Contents<span class=\"tocSkip\"></span></h1>\n",
    "<div class=\"toc\"><ul class=\"toc-item\"><li><span><a href=\"#Listado-parcial-de-proyectos\" data-toc-modified-id=\"Listado-parcial-de-proyectos-1\"><span class=\"toc-item-num\">1&nbsp;&nbsp;</span>Listado parcial de proyectos</a></span><ul class=\"toc-item\"><li><span><a href=\"#Solución-de-la-hipotenusa\" data-toc-modified-id=\"Solución-de-la-hipotenusa-1.1\"><span class=\"toc-item-num\">1.1&nbsp;&nbsp;</span>Solución de la hipotenusa</a></span></li></ul></li></ul></div>"
   ]
  },
  {
   "cell_type": "markdown",
   "metadata": {},
   "source": [
    "# Listado parcial de proyectos"
   ]
  },
  {
   "cell_type": "markdown",
   "metadata": {},
   "source": [
    "La siguiente es una lista parcial de los proyectos de clase desarrollados por los estudiantes como parte del curso de programacion en Python, de la asignatura diseño de software de la linea de programacion del colegio Antonio Baraya en el marco del proyecto de Educacion Media Integral (EMI)"
   ]
  },
  {
   "cell_type": "markdown",
   "metadata": {},
   "source": [
    "## Solución de la hipotenusa"
   ]
  },
  {
   "cell_type": "code",
   "execution_count": null,
   "metadata": {},
   "outputs": [],
   "source": []
  }
 ],
 "metadata": {
  "kernelspec": {
   "display_name": "Python 3",
   "language": "python",
   "name": "python3"
  },
  "language_info": {
   "codemirror_mode": {
    "name": "ipython",
    "version": 3
   },
   "file_extension": ".py",
   "mimetype": "text/x-python",
   "name": "python",
   "nbconvert_exporter": "python",
   "pygments_lexer": "ipython3",
   "version": "3.7.6"
  },
  "toc": {
   "base_numbering": 1,
   "nav_menu": {},
   "number_sections": true,
   "sideBar": true,
   "skip_h1_title": false,
   "title_cell": "Table of Contents",
   "title_sidebar": "Contents",
   "toc_cell": true,
   "toc_position": {},
   "toc_section_display": true,
   "toc_window_display": false
  }
 },
 "nbformat": 4,
 "nbformat_minor": 4
}
